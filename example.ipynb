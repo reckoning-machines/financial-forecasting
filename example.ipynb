{
 "cells": [
  {
   "cell_type": "code",
   "execution_count": null,
   "metadata": {},
   "outputs": [],
   "source": [
    "from datapull import *\n",
    "sd = StockData(ticker='BAC')\n",
    "sd.create_featureset()\n",
    "display(sd.calendar.head())\n",
    "display(sd.featureset.tail())"
   ]
  },
  {
   "cell_type": "code",
   "execution_count": null,
   "metadata": {},
   "outputs": [],
   "source": [
    "from datapull import *\n",
    "\n",
    "sim_list = {}\n",
    "sim_list['AAPL'] = StockData(ticker='AAPL')\n",
    "sim_list['IBM'] = StockData(ticker='IBM')\n",
    "\n",
    "for sim in sim_list.keys():\n",
    "    sim_list[sim].get_financial_data()\n",
    "    sim_list[sim].get_price_data()\n",
    "    sim_list[sim].get_analyst_estimates()\n",
    "    sim_list[sim].get_key_metrics()\n",
    "    sim_list[sim].get_ratios()\n",
    "\n",
    "    "
   ]
  },
  {
   "cell_type": "code",
   "execution_count": null,
   "metadata": {},
   "outputs": [],
   "source": [
    "sim_list['IBM'].price_data.head()"
   ]
  },
  {
   "cell_type": "code",
   "execution_count": null,
   "metadata": {},
   "outputs": [],
   "source": [
    "sim_list['IBM'].ratios.head()"
   ]
  },
  {
   "cell_type": "code",
   "execution_count": null,
   "metadata": {},
   "outputs": [],
   "source": [
    "sim_list['IBM'].key_metrics.head()"
   ]
  },
  {
   "cell_type": "code",
   "execution_count": null,
   "metadata": {},
   "outputs": [],
   "source": [
    "sim_list['IBM'].income_statement.head()"
   ]
  },
  {
   "cell_type": "code",
   "execution_count": null,
   "metadata": {},
   "outputs": [],
   "source": [
    "sim_list['IBM'].balance_sheet.head()"
   ]
  },
  {
   "cell_type": "code",
   "execution_count": null,
   "metadata": {},
   "outputs": [],
   "source": [
    "fred_list = [\"DGS10\",\"DGS2\",\"DTB3\",\"SP500\"]\n",
    "fred_data_list = {}\n",
    "\n",
    "for item in fred_list:\n",
    "    fred_data_list[item] = FredData(ticker=item)\n",
    "for item in fred_list:\n",
    "    fred_data_list[item].get_data()"
   ]
  },
  {
   "cell_type": "code",
   "execution_count": null,
   "metadata": {},
   "outputs": [],
   "source": [
    "fred_data_list['SP500'].data"
   ]
  }
 ],
 "metadata": {
  "kernelspec": {
   "display_name": "Python 3",
   "language": "python",
   "name": "python3"
  },
  "language_info": {
   "codemirror_mode": {
    "name": "ipython",
    "version": 3
   },
   "file_extension": ".py",
   "mimetype": "text/x-python",
   "name": "python",
   "nbconvert_exporter": "python",
   "pygments_lexer": "ipython3",
   "version": "3.11.7"
  }
 },
 "nbformat": 4,
 "nbformat_minor": 2
}
